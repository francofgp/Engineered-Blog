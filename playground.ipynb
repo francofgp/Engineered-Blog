{
 "cells": [
  {
   "cell_type": "code",
   "execution_count": 13,
   "metadata": {},
   "outputs": [
    {
     "name": "stdout",
     "output_type": "stream",
     "text": [
      "False\n"
     ]
    },
    {
     "ename": "TypeError",
     "evalue": "ChemicalElementNormalClass.__init__() missing 4 required positional arguments: 'name', 'symbol', 'atomic_number', and 'atomic_mass'",
     "output_type": "error",
     "traceback": [
      "\u001b[1;31m---------------------------------------------------------------------------\u001b[0m",
      "\u001b[1;31mTypeError\u001b[0m                                 Traceback (most recent call last)",
      "\u001b[1;32md:\\Documents\\Python\\Proyectos\\Engineered-Blog\\playground.ipynb Cell 1\u001b[0m in \u001b[0;36m<cell line: 13>\u001b[1;34m()\u001b[0m\n\u001b[0;32m     <a href='vscode-notebook-cell:/d%3A/Documents/Python/Proyectos/Engineered-Blog/playground.ipynb#W0sZmlsZQ%3D%3D?line=9'>10</a>\u001b[0m oxygen_copy \u001b[39m=\u001b[39m ChemicalElementNormalClass(\u001b[39m\"\u001b[39m\u001b[39mOxygen\u001b[39m\u001b[39m\"\u001b[39m, \u001b[39m\"\u001b[39m\u001b[39mO\u001b[39m\u001b[39m\"\u001b[39m, \u001b[39m8\u001b[39m, \u001b[39m15.999\u001b[39m)\n\u001b[0;32m     <a href='vscode-notebook-cell:/d%3A/Documents/Python/Proyectos/Engineered-Blog/playground.ipynb#W0sZmlsZQ%3D%3D?line=11'>12</a>\u001b[0m \u001b[39mprint\u001b[39m(oxygen \u001b[39m==\u001b[39m oxygen_copy)\n\u001b[1;32m---> <a href='vscode-notebook-cell:/d%3A/Documents/Python/Proyectos/Engineered-Blog/playground.ipynb#W0sZmlsZQ%3D%3D?line=12'>13</a>\u001b[0m \u001b[39mprint\u001b[39m(ChemicalElementNormalClass())\n",
      "\u001b[1;31mTypeError\u001b[0m: ChemicalElementNormalClass.__init__() missing 4 required positional arguments: 'name', 'symbol', 'atomic_number', and 'atomic_mass'"
     ]
    }
   ],
   "source": [
    "\n",
    "class ChemicalElementNormalClass:\n",
    "    '''A normal python class that represents a chemical element'''\n",
    "    def __init__(self, name, symbol, atomic_number, atomic_mass):\n",
    "        self.name = name\n",
    "        self.symbol = symbol\n",
    "        self.atomic_number = atomic_number\n",
    "        self.atomic_mass = atomic_mass\n",
    "\n",
    "oxygen = ChemicalElementNormalClass(\"Oxygen\", \"O\", 8, 15.999)\n",
    "oxygen_copy = ChemicalElementNormalClass(\"Oxygen\", \"O\", 8, 15.999)\n",
    "\n",
    "print(oxygen == oxygen_copy)\n",
    "print(ChemicalElementNormalClass())\n"
   ]
  },
  {
   "cell_type": "code",
   "execution_count": 35,
   "metadata": {},
   "outputs": [
    {
     "name": "stdout",
     "output_type": "stream",
     "text": [
      "7.9990000000000006\n"
     ]
    }
   ],
   "source": [
    "from dataclasses import dataclass, asdict, astuple, field\n",
    "\n",
    "@dataclass\n",
    "class ChemicalElement:\n",
    "    '''Class that represents a chemical element'''\n",
    "    name: str\n",
    "    symbol: str\n",
    "    atomic_number: int \n",
    "    atomic_mass: float\n",
    "    number_of_neutrons: float = field(init=False, repr=True)\n",
    "\n",
    "    def __post_init__(self):\n",
    "         self.number_of_neutrons = self.atomic_mass - self.atomic_number\n",
    "\n",
    "\n",
    "    # def number_of_neutrons(self):\n",
    "    #    return self.atomic_mass - self.atomic_number\n",
    "\n",
    "    \n",
    "\n",
    "oxygen = ChemicalElement(\"Oxygen\", \"O\", 8, 15.999)\n",
    "print(oxygen.number_of_neutrons)\n"
   ]
  },
  {
   "cell_type": "code",
   "execution_count": 51,
   "metadata": {},
   "outputs": [
    {
     "name": "stdout",
     "output_type": "stream",
     "text": [
      "True\n"
     ]
    }
   ],
   "source": [
    "from dataclasses import dataclass, field\n",
    "\n",
    "@dataclass(order = True)\n",
    "class ChemicalElement:\n",
    "    '''Class that represents a chemical element'''\n",
    "    sort_index: int = field(init=False)\n",
    "    name: str\n",
    "    symbol: str\n",
    "    atomic_number: int \n",
    "    atomic_mass: float\n",
    "    \n",
    "\n",
    "    def __post_init__(self):\n",
    "        self.sort_index = self.atomic_number\n",
    "\n",
    "\n",
    "    # def number_of_neutrons(self):\n",
    "    #    return self.atomic_mass - self.atomic_number\n",
    "\n",
    "    \n",
    "\n",
    "oxygen = ChemicalElement(\"Oxygen\", \"O\", 8, 15.999)\n",
    "gold = ChemicalElement(\"Gold\", \"Au\", 79, 200.59)\n",
    "print(gold > oxygen)\n"
   ]
  },
  {
   "cell_type": "code",
   "execution_count": 59,
   "metadata": {},
   "outputs": [
    {
     "name": "stdout",
     "output_type": "stream",
     "text": [
      "7.9990000000000006\n"
     ]
    }
   ],
   "source": [
    "from dataclasses import dataclass\n",
    "\n",
    "@dataclass\n",
    "class ChemicalElement:\n",
    "    '''Class that represents a chemical element'''\n",
    "    name: str\n",
    "    symbol: str\n",
    "    atomic_number: int \n",
    "    atomic_mass: float\n",
    "    \n",
    "    def number_of_neutrons(self):\n",
    "       return self.atomic_mass - self.atomic_number\n",
    "    \n",
    "\n",
    "oxygen = ChemicalElement(\"Oxygen\", \"O\", 8, 15.999)\n",
    "print(oxygen.number_of_neutrons())\n"
   ]
  },
  {
   "cell_type": "code",
   "execution_count": 61,
   "metadata": {},
   "outputs": [
    {
     "name": "stdout",
     "output_type": "stream",
     "text": [
      "SuperHero(name='Bruce Wayne', hero_name='Batman', super_power='Money')\n"
     ]
    }
   ],
   "source": [
    "from dataclasses import dataclass\n",
    "\n",
    "@dataclass\n",
    "class Person:\n",
    "    name: str\n",
    "\n",
    "\n",
    "@dataclass\n",
    "class SuperHero(Person):\n",
    "    hero_name: str\n",
    "    super_power: str\n",
    "\n",
    "batman = SuperHero(\"Bruce Wayne\", \"Batman\", \"Money\")\n",
    "print(batman)\n"
   ]
  }
 ],
 "metadata": {
  "kernelspec": {
   "display_name": "Python 3.10.4 64-bit",
   "language": "python",
   "name": "python3"
  },
  "language_info": {
   "codemirror_mode": {
    "name": "ipython",
    "version": 3
   },
   "file_extension": ".py",
   "mimetype": "text/x-python",
   "name": "python",
   "nbconvert_exporter": "python",
   "pygments_lexer": "ipython3",
   "version": "3.10.4"
  },
  "orig_nbformat": 4,
  "vscode": {
   "interpreter": {
    "hash": "c63d8c7d738c2960218a10995aedf0a7f67a49a231e71037adf0440953cdb45b"
   }
  }
 },
 "nbformat": 4,
 "nbformat_minor": 2
}
